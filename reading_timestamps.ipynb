{
 "cells": [
  {
   "cell_type": "code",
   "execution_count": 6,
   "metadata": {},
   "outputs": [
    {
     "name": "stdout",
     "output_type": "stream",
     "text": [
      "00:00 - Ja pensou aprender qualquer coisa?\n",
      "00:33 - Meu contato com a Escrita\n",
      "02:08 - Aprendendo a escrita!\n",
      "03:35 - Benefícios da Escrita\n",
      "06:39 - O Sistema perfeito de Escrita\n"
     ]
    }
   ],
   "source": [
    "import pandas as pd\n",
    "\n",
    "def read_and_format_csv(csv_file_path):\n",
    "    # Read only the necessary columns from the CSV file into a DataFrame\n",
    "    df = pd.read_csv(csv_file_path, usecols=[\"Record In\", \"Notes\"])\n",
    "\n",
    "    # Extract the \"Record In\" and \"Comments\" columns\n",
    "    timestamps = df[\"Record In\"]\n",
    "    comments = df[\"Notes\"]\n",
    "\n",
    "    # Format and print the output\n",
    "    for timestamp, comment in zip(timestamps, comments):\n",
    "        formatted_timestamp = format_timestamp(timestamp)\n",
    "        print(f\"{formatted_timestamp} - {comment}\")\n",
    "\n",
    "def format_timestamp(timestamp):\n",
    "    # Split the timestamp into its components\n",
    "    components = timestamp.split(':')\n",
    "\n",
    "    # Extract hours, minutes, seconds, and milliseconds\n",
    "    if len(components) == 4:\n",
    "        hours, minutes, seconds, milliseconds = map(int, components)\n",
    "    else:\n",
    "        # If the format is different, handle it accordingly\n",
    "        # You might need to adjust this based on the actual format\n",
    "        # For example, if it's \"HH:MM:SS:MS\" or something else\n",
    "        # You can adapt this part of the code accordingly\n",
    "        raise ValueError(\"Unexpected timestamp format\")\n",
    "\n",
    "    # Calculate total seconds\n",
    "    total_seconds = hours * 3600 + minutes * 60 + seconds + milliseconds / 100\n",
    "\n",
    "    # Convert the total seconds to HH:MM format\n",
    "    formatted_timestamp = '{:02}:{:02}'.format(int(total_seconds // 60), int(total_seconds % 60))\n",
    "\n",
    "    return formatted_timestamp\n",
    "\n",
    "# Specify the path to your CSV file\n",
    "csv_file_path = 'Main.csv'\n",
    "\n",
    "# Call the function with the CSV file path\n",
    "read_and_format_csv(csv_file_path)\n"
   ]
  },
  {
   "cell_type": "code",
   "execution_count": null,
   "metadata": {},
   "outputs": [],
   "source": []
  }
 ],
 "metadata": {
  "kernelspec": {
   "display_name": "Python 3",
   "language": "python",
   "name": "python3"
  },
  "language_info": {
   "codemirror_mode": {
    "name": "ipython",
    "version": 3
   },
   "file_extension": ".py",
   "mimetype": "text/x-python",
   "name": "python",
   "nbconvert_exporter": "python",
   "pygments_lexer": "ipython3",
   "version": "3.11.6"
  }
 },
 "nbformat": 4,
 "nbformat_minor": 2
}
